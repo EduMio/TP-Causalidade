{
 "cells": [
  {
   "cell_type": "code",
   "execution_count": 1,
   "id": "9a96c94d",
   "metadata": {},
   "outputs": [],
   "source": [
    "import numpy as np, os"
   ]
  },
  {
   "cell_type": "code",
   "execution_count": 2,
   "id": "10ae64c6",
   "metadata": {},
   "outputs": [],
   "source": [
    "def MkDirs(t):\n",
    "    try:\n",
    "        os.makedirs(t)\n",
    "    except:\n",
    "        pass"
   ]
  },
  {
   "cell_type": "code",
   "execution_count": 3,
   "id": "04b4688d",
   "metadata": {},
   "outputs": [],
   "source": [
    "x = np.load('preprocessed0.npy')"
   ]
  },
  {
   "cell_type": "code",
   "execution_count": 4,
   "id": "250bb9d6",
   "metadata": {},
   "outputs": [
    {
     "data": {
      "text/plain": [
       "(40021, 278)"
      ]
     },
     "execution_count": 4,
     "metadata": {},
     "output_type": "execute_result"
    }
   ],
   "source": [
    "x.shape"
   ]
  },
  {
   "cell_type": "code",
   "execution_count": 5,
   "id": "52010512",
   "metadata": {},
   "outputs": [
    {
     "data": {
      "text/plain": [
       "array([78., 78., 78., ..., 80., 80., 80.])"
      ]
     },
     "execution_count": 5,
     "metadata": {},
     "output_type": "execute_result"
    }
   ],
   "source": [
    "x[:,1]"
   ]
  },
  {
   "cell_type": "code",
   "execution_count": 6,
   "id": "02a4a5ce",
   "metadata": {},
   "outputs": [],
   "source": [
    "BINS = 'Bins/'\n",
    "for i in range(17, 91, 5):\n",
    "    MkDirs(BINS + str(i) + '-' + str(i + 4))"
   ]
  },
  {
   "cell_type": "code",
   "execution_count": 7,
   "id": "39f3923f",
   "metadata": {},
   "outputs": [
    {
     "data": {
      "text/plain": [
       "(278,)"
      ]
     },
     "execution_count": 7,
     "metadata": {},
     "output_type": "execute_result"
    }
   ],
   "source": [
    "x[333].shape"
   ]
  },
  {
   "cell_type": "code",
   "execution_count": 26,
   "id": "f75dbd89",
   "metadata": {},
   "outputs": [],
   "source": [
    "L = len(x)\n",
    "\n",
    "def GetBinOff(age):\n",
    "    age = min(max(age, 17), 91)\n",
    "    age -= 17\n",
    "    return int(age) // 5\n",
    "\n",
    "l = [[] for i in range(15)]\n",
    "\n",
    "for i in range(L):\n",
    "    row = x[i]\n",
    "    age = row[1]\n",
    "    off = GetBinOff(age)\n",
    "    l[off].append(row)\n",
    "\n",
    "ins = [np.array(i) for i in l]"
   ]
  },
  {
   "cell_type": "code",
   "execution_count": 27,
   "id": "b14c60ba",
   "metadata": {},
   "outputs": [],
   "source": [
    "IN_END = '/in.npy'"
   ]
  },
  {
   "cell_type": "code",
   "execution_count": 37,
   "id": "62decfc9",
   "metadata": {},
   "outputs": [],
   "source": [
    "def GetPath(i):\n",
    "    a = 17 + i * 5\n",
    "    b = a + 4\n",
    "    path = str(a) + '-' + str(b)\n",
    "    return path\n",
    "\n",
    "for i in range(15):\n",
    "    path = GetPath(i)\n",
    "    np.save(BINS + path + IN_END, ins[i])"
   ]
  },
  {
   "cell_type": "markdown",
   "id": "f8316de5",
   "metadata": {},
   "source": [
    "# KNN"
   ]
  },
  {
   "cell_type": "code",
   "execution_count": 29,
   "id": "a7f7dce2",
   "metadata": {},
   "outputs": [],
   "source": [
    "from sklearn.neighbors import KDTree"
   ]
  },
  {
   "cell_type": "code",
   "execution_count": 30,
   "id": "c80d91bd",
   "metadata": {},
   "outputs": [],
   "source": [
    "A, B = 148, 275 # posições dos coeficientes da onda inteira"
   ]
  },
  {
   "cell_type": "code",
   "execution_count": 53,
   "id": "9059f27a",
   "metadata": {},
   "outputs": [],
   "source": [
    "for i in range(12): # último 72-76 pq 87-91 tem mto pouco\n",
    "    dataDst = np.load(BINS + GetPath(i + 2) + IN_END) # 10 anos à frente\n",
    "    ondas = []\n",
    "    mappings = []\n",
    "    for rowOff in range(len(dataDst)):\n",
    "        row = dataDst[rowOff]\n",
    "        if np.all(row[2:8] == 0): # labels\n",
    "            c = row[A:B]\n",
    "            ondas.append(c)\n",
    "            mappings.append(rowOff)\n",
    "    ondas = np.array(ondas)\n",
    "    tree = KDTree(ondas)\n",
    "\n",
    "    outStart = BINS + GetPath(i)\n",
    "    dataSrc = np.load(outStart + IN_END)\n",
    "    out = []\n",
    "    for row in dataSrc:\n",
    "        onda = row[A:B]\n",
    "        dist, ind = tree.query(onda.reshape(1, -1))\n",
    "        gIdx = dist.argmin()\n",
    "        idxClosestOnda = ind[gIdx][0]\n",
    "        orgRow = mappings[idxClosestOnda]\n",
    "        out.append(dataDst[orgRow])\n",
    "    np.save(outStart + '/out.npy', out)"
   ]
  }
 ],
 "metadata": {
  "kernelspec": {
   "display_name": "Python 3 (ipykernel)",
   "language": "python",
   "name": "python3"
  },
  "language_info": {
   "codemirror_mode": {
    "name": "ipython",
    "version": 3
   },
   "file_extension": ".py",
   "mimetype": "text/x-python",
   "name": "python",
   "nbconvert_exporter": "python",
   "pygments_lexer": "ipython3",
   "version": "3.10.4"
  }
 },
 "nbformat": 4,
 "nbformat_minor": 5
}
