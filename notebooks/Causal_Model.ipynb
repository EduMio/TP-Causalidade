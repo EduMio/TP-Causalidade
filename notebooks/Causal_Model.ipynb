{
 "cells": [
  {
   "cell_type": "code",
   "execution_count": 1,
   "metadata": {},
   "outputs": [],
   "source": [
    "from common import*\n",
    "from sklearn.neighbors import KDTree\n",
    "import matplotlib.pyplot as plt"
   ]
  },
  {
   "cell_type": "code",
   "execution_count": 2,
   "metadata": {},
   "outputs": [],
   "source": [
    "# filter some (bugs?) from neurokit2\n",
    "warnings.filterwarnings(action='ignore', message='Mean of empty slice')\n",
    "warnings.filterwarnings(action='ignore', message='invalid value encountered in double_scalars')\n",
    "warnings.filterwarnings(action='ignore', message='Too few peaks detected to compute the rate. Returning empty vector.')\n"
   ]
  },
  {
   "cell_type": "code",
   "execution_count": 3,
   "metadata": {},
   "outputs": [],
   "source": [
    "# Definição do caminho para os arquivos de treino pré-processados\n",
    "root = '/Users/juliastanciolipaiva/Documents/UFMG2020/Causalidade ML/TP-Causalidade/'\n",
    "preprocess_folder = 'preprocess2'\n",
    "train_folder = 'PreprocessedTrain'\n",
    "batch = 0\n",
    "path = root + preprocess_folder + os.sep + train_folder + os.sep + str(batch) + os.sep\n",
    "\n"
   ]
  },
  {
   "cell_type": "code",
   "execution_count": 4,
   "metadata": {},
   "outputs": [],
   "source": [
    "# Definição do caminho para os arquivos de teste\n",
    "folder = '/Users/juliastanciolipaiva/Documents/UFMG2020/Causalidade ML/TP-Causalidade/data/testData/'"
   ]
  },
  {
   "cell_type": "code",
   "execution_count": 5,
   "metadata": {},
   "outputs": [],
   "source": [
    "with h5py.File(folder + 'ecg_tracings.hdf5') as f:\n",
    "    M = np.array(f['tracings'])"
   ]
  },
  {
   "cell_type": "code",
   "execution_count": 7,
   "metadata": {},
   "outputs": [],
   "source": [
    "def GetTestAge(i, dfAgeSex):\n",
    "    return dfAgeSex.values[i][0]"
   ]
  },
  {
   "cell_type": "code",
   "execution_count": 8,
   "metadata": {},
   "outputs": [],
   "source": [
    "def GetTestCoeffs(ecg):\n",
    "    SAMPLE_RATE = 400\n",
    "    w = ecg - ecg.mean()\n",
    "    try:\n",
    "        d = nk.ecg_delineate(w, sampling_rate=SAMPLE_RATE)[1]\n",
    "    except:\n",
    "        raise Exception('Neurokit não conseguiu delinear esse ECG')\n",
    "    starts = d['ECG_P_Onsets']\n",
    "    coeffs = []\n",
    "    for j in range(len(starts) - 1):\n",
    "        cur = starts[j]\n",
    "        nxt = starts[j + 1]\n",
    "        if math.isnan(cur) or math.isnan(nxt):\n",
    "            print('Neurokit retornou nan')\n",
    "            continue\n",
    "            \n",
    "        period = w[cur:nxt]\n",
    "        if not len(period):\n",
    "            print('Neurokit retornou período vazio')\n",
    "            break\n",
    "            \n",
    "        coeffs.append(GetCoeff(period))\n",
    "    if not len(coeffs):\n",
    "        raise Exception('Neurokit não conseguiu encontrar batimentos nesse ECG')\n",
    "    return coeffs"
   ]
  },
  {
   "cell_type": "code",
   "execution_count": 9,
   "metadata": {},
   "outputs": [],
   "source": [
    "def counterfactual(person_id, counterfactual_age):\n",
    "    original_ecg = M[person_id, :, ELETRODO_IDX]\n",
    "    coeffs = GetTestCoeffs(original_ecg)\n",
    "    start = path + str(counterfactual_age) + os.sep\n",
    "    mappings = np.load(start + 'mappings.npy')\n",
    "    ecgs = np.load(start + 'ecgs.npy')\n",
    "    ondas = np.load(start + 'ondas.npy')\n",
    "    tree = KDTree(ondas)\n",
    "    dist, ind = tree.query(coeffs)\n",
    "    gIdx = dist.argmin()\n",
    "    idxClosestOnda = ind[gIdx][0]\n",
    "    ecgOrgRow = mappings[idxClosestOnda]\n",
    "    ecgClosest = ecgs[ecgOrgRow]\n",
    "    return ecgClosest"
   ]
  },
  {
   "cell_type": "code",
   "execution_count": 13,
   "metadata": {},
   "outputs": [
    {
     "name": "stdout",
     "output_type": "stream",
     "text": [
      "34\n"
     ]
    }
   ],
   "source": [
    "dfAgeSex = pd.read_csv(folder + 'attributes.csv')\n",
    "pessoa = 0\n",
    "age = GetTestAge(pessoa, dfAgeSex)\n",
    "print(age)"
   ]
  },
  {
   "cell_type": "code",
   "execution_count": 20,
   "metadata": {},
   "outputs": [],
   "source": [
    "counterfactual_age = age+26\n",
    "new_ecg = counterfactual(pessoa,counterfactual_age)"
   ]
  },
  {
   "cell_type": "code",
   "execution_count": 21,
   "metadata": {},
   "outputs": [
    {
     "data": {
      "image/png": "[encoded data removed]",
      "text/plain": [
       "<Figure size 432x288 with 1 Axes>"
      ]
     },
     "metadata": {
      "needs_background": "light"
     },
     "output_type": "display_data"
    }
   ],
   "source": [
    "plt.plot(new_ecg)\n",
    "plt.show()"
   ]
  },
  {
   "cell_type": "code",
   "execution_count": null,
   "metadata": {},
   "outputs": [],
   "source": []
  }
 ],
 "metadata": {
  "kernelspec": {
   "display_name": "Python 3 (ipykernel)",
   "language": "python",
   "name": "python3"
  },
  "language_info": {
   "codemirror_mode": {
    "name": "ipython",
    "version": 3
   },
   "file_extension": ".py",
   "mimetype": "text/x-python",
   "name": "python",
   "nbconvert_exporter": "python",
   "pygments_lexer": "ipython3",
   "version": "3.7.15"
  }
 },
 "nbformat": 4,
 "nbformat_minor": 4
}
