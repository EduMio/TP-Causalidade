{
 "cells": [
  {
   "cell_type": "code",
   "execution_count": 1,
   "id": "afbb3fca-c1ae-44ca-b0b5-2bc2042fc665",
   "metadata": {},
   "outputs": [],
   "source": [
    "import numpy as np\n",
    "import matplotlib.pyplot as plt\n",
    "import pandas as pd"
   ]
  },
  {
   "cell_type": "code",
   "execution_count": 2,
   "id": "62e15615-df97-46a7-8cde-f5d73266e751",
   "metadata": {},
   "outputs": [],
   "source": [
    "# [idade, 6 labels, len(P), 32 coeficientes da onda P,len(QRS), 40 da QRS, len(T), 64 da T, len(batimento inteiro) 128 do batimento inteiro) \n",
    "# 1 + 6 + 1 + 32 + 1 + 40 + 1 + 64 + 1 + 128 = 275"
   ]
  },
  {
   "cell_type": "code",
   "execution_count": 3,
   "id": "70e301a0-9985-4bf1-836a-60ce817a65b1",
   "metadata": {},
   "outputs": [],
   "source": [
    "# Importante notar que os dados aqui carregados ja foram normalizados pela media e desvio padrao, exceto os diagnosticos"
   ]
  },
  {
   "cell_type": "code",
   "execution_count": 4,
   "id": "0150eae0-e549-470b-9a1d-72a18b1d45a9",
   "metadata": {},
   "outputs": [],
   "source": [
    "db = np.load(\"../data/training/db.npy\")"
   ]
  },
  {
   "cell_type": "code",
   "execution_count": 9,
   "id": "952cc2c8-072d-45e5-9537-8b97b1af259b",
   "metadata": {},
   "outputs": [],
   "source": [
    "columns = [\"age\",\"1dVAb\",\"RBBB\",\"LBBB\",\"SB\",\"ST\",\"AF\"]\n",
    "diagnosticos = [\"1dVAb\",\"RBBB\",\"LBBB\",\"SB\",\"ST\",\"AF\"]\n",
    "\n",
    "columns.append(\"len_P\")\n",
    "for i in range(32):\n",
    "    columns.append(\"P_a_\"+str(i))\n",
    "\n",
    "columns.append(\"len_QRS\")\n",
    "for i in range(40):\n",
    "    columns.append(\"QRS_a_\"+str(i))\n",
    "\n",
    "columns.append(\"len_T\")\n",
    "for i in range(64):\n",
    "    columns.append(\"T_a_\"+str(i))\n",
    "\n",
    "columns.append(\"len_bat\")\n",
    "for i in range(128):\n",
    "    columns.append(\"bat_a_\"+str(i))"
   ]
  },
  {
   "cell_type": "code",
   "execution_count": 6,
   "id": "95722e1c-1feb-42c1-b618-80f24a58c0d7",
   "metadata": {},
   "outputs": [],
   "source": [
    "table = pd.DataFrame(data=db,columns=columns)"
   ]
  },
  {
   "cell_type": "code",
   "execution_count": 23,
   "id": "ffa0e402-c1f3-4ec4-a289-3105b292ebd8",
   "metadata": {},
   "outputs": [],
   "source": [
    "prev_array = []\n",
    "\n",
    "for diag in diagnosticos:\n",
    "    prev = len(table[table[diag] == 1])/len(table)\n",
    "    prev_array.append(prev)"
   ]
  },
  {
   "cell_type": "code",
   "execution_count": 25,
   "id": "7af142f0-1d32-41d3-b279-6bf735e69eb4",
   "metadata": {},
   "outputs": [
    {
     "data": {
      "text/plain": [
       "['0.07', '0.12', '0.06', '0.05', '0.14', '0.10']"
      ]
     },
     "execution_count": 25,
     "metadata": {},
     "output_type": "execute_result"
    }
   ],
   "source": [
    "[\"{:.2f}\".format(x) for x in prev_array]"
   ]
  },
  {
   "cell_type": "code",
   "execution_count": null,
   "id": "75602a18-0cc0-4cbc-9ef8-526d92b73aea",
   "metadata": {},
   "outputs": [],
   "source": [
    "# Bloqueio AV de 1º grau, Bloqueio do Ramo Direito. Bloqueio do Ramo Esquerdo, Bradicardia Sinusal\n",
    "# Taquicardia Sinusal , Fibrilação Atrial\n"
   ]
  },
  {
   "cell_type": "code",
   "execution_count": 7,
   "id": "6bb5f6ad-0c0f-4aa4-81bf-3ce60727fdc9",
   "metadata": {},
   "outputs": [],
   "source": [
    "#table.to_pickle(\"data/table.pkl\")"
   ]
  }
 ],
 "metadata": {
  "kernelspec": {
   "display_name": "Python 3 (ipykernel)",
   "language": "python",
   "name": "python3"
  },
  "language_info": {
   "codemirror_mode": {
    "name": "ipython",
    "version": 3
   },
   "file_extension": ".py",
   "mimetype": "text/x-python",
   "name": "python",
   "nbconvert_exporter": "python",
   "pygments_lexer": "ipython3",
   "version": "3.7.15"
  }
 },
 "nbformat": 4,
 "nbformat_minor": 5
}
