{
 "cells": [
  {
   "cell_type": "code",
   "execution_count": 9,
   "id": "e8b485b0-9197-4023-8f43-9577ce844449",
   "metadata": {},
   "outputs": [],
   "source": [
    "import numpy as np"
   ]
  },
  {
   "cell_type": "code",
   "execution_count": 10,
   "id": "ba56f071-501d-4cae-8309-58132090da30",
   "metadata": {},
   "outputs": [],
   "source": [
    "mat = np.load(\"rep/preprocessed0.npy\")"
   ]
  },
  {
   "cell_type": "code",
   "execution_count": 14,
   "id": "3b5ad2cd-6201-420f-930b-4640183a4d41",
   "metadata": {},
   "outputs": [],
   "source": [
    "for i in range(1,15):\n",
    "    aux = np.load(\"rep/preprocessed\"+str(i)+\".npy\")\n",
    "    mat = np.concatenate((mat,aux),axis = 0)\n",
    "    "
   ]
  },
  {
   "cell_type": "code",
   "execution_count": 18,
   "id": "13e99791-a7cc-4797-b97e-80ff261309c4",
   "metadata": {},
   "outputs": [],
   "source": [
    "np.save(\"db.npy\",mat)"
   ]
  },
  {
   "cell_type": "code",
   "execution_count": 20,
   "id": "833207b6-6818-4212-ac27-31a9e9a7b400",
   "metadata": {},
   "outputs": [
    {
     "data": {
      "text/plain": [
       "275"
      ]
     },
     "execution_count": 20,
     "metadata": {},
     "output_type": "execute_result"
    }
   ],
   "source": [
    "len(mat.T)"
   ]
  }
 ],
 "metadata": {
  "kernelspec": {
   "display_name": "Python 3 (ipykernel)",
   "language": "python",
   "name": "python3"
  },
  "language_info": {
   "codemirror_mode": {
    "name": "ipython",
    "version": 3
   },
   "file_extension": ".py",
   "mimetype": "text/x-python",
   "name": "python",
   "nbconvert_exporter": "python",
   "pygments_lexer": "ipython3",
   "version": "3.7.15"
  }
 },
 "nbformat": 4,
 "nbformat_minor": 5
}
