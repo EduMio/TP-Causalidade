{
 "cells": [
  {
   "cell_type": "code",
   "execution_count": 1,
   "id": "af9d505d-ce31-409a-afc0-5c6314e2b349",
   "metadata": {},
   "outputs": [],
   "source": [
    "import numpy as np\n",
    "\n",
    "# [idade, 6 labels, len(P), 32 coeficientes da onda P,len(QRS), 40 da QRS, len(T), 64 da T, len(batimento inteiro) 128 do batimento inteiro) \n",
    "# 1 + 6 + 1 + 32 + 1 + 40 + 1 + 64 + 1 + 128 = 275\n",
    "# 129 targets e 147 attributes"
   ]
  },
  {
   "cell_type": "code",
   "execution_count": 6,
   "id": "bd853c32-d0ee-4794-b5dd-8ed69120cea1",
   "metadata": {},
   "outputs": [],
   "source": [
    "db = np.load(\"../data/db_crude.npy\")"
   ]
  },
  {
   "cell_type": "code",
   "execution_count": 3,
   "id": "15e9df54-ba29-48d1-8462-72e16711ea21",
   "metadata": {},
   "outputs": [],
   "source": [
    "db = db.T"
   ]
  },
  {
   "cell_type": "code",
   "execution_count": 4,
   "id": "695e0216-0681-43de-90aa-ab173ca23051",
   "metadata": {},
   "outputs": [],
   "source": [
    "N_attributes = len(db)\n",
    "\n",
    "mean_arr = [0]*N_attributes\n",
    "std_arr = [1]*N_attributes\n",
    "\n",
    "for i in range(N_attributes):\n",
    "    if i not in [1,2,3,4,5,6]:# Excluindo as colunas referentes ao vetor binario de diagnosticos\n",
    "        mean = np.mean(db[i])\n",
    "        std = np.std(db[i])\n",
    "        mean_arr[i] = mean\n",
    "        std_arr[i] = std\n",
    "        if std != 0:\n",
    "            db[i] = (db[i] - mean)/std\n",
    "        else:\n",
    "            db[i] = (db[i] - mean)"
   ]
  },
  {
   "cell_type": "code",
   "execution_count": 5,
   "id": "b0c4c042-fc4a-4a1f-9af1-6dd7d98889f6",
   "metadata": {},
   "outputs": [],
   "source": [
    "np.save(\"db.npy\",db.T)\n",
    "np.save(\"mean_arr.npy\",mean_arr)\n",
    "np.save(\"std_arr.npy\",std_arr)"
   ]
  }
 ],
 "metadata": {
  "kernelspec": {
   "display_name": "Python 3 (ipykernel)",
   "language": "python",
   "name": "python3"
  },
  "language_info": {
   "codemirror_mode": {
    "name": "ipython",
    "version": 3
   },
   "file_extension": ".py",
   "mimetype": "text/x-python",
   "name": "python",
   "nbconvert_exporter": "python",
   "pygments_lexer": "ipython3",
   "version": "3.7.15"
  }
 },
 "nbformat": 4,
 "nbformat_minor": 5
}
