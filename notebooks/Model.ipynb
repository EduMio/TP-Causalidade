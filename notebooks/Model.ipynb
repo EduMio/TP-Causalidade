{
 "cells": [
  {
   "cell_type": "code",
   "execution_count": 1,
   "id": "03fac0fc-803d-492f-b842-c4ba7d846465",
   "metadata": {},
   "outputs": [],
   "source": [
    "import numpy as np\n",
    "import pandas as pd\n",
    "import torch\n",
    "import torch.nn as nn\n",
    "import time"
   ]
  },
  {
   "cell_type": "code",
   "execution_count": 2,
   "id": "317de548-78f3-4fd1-a132-ec7a09eb051a",
   "metadata": {},
   "outputs": [],
   "source": [
    "db = np.load(\"../data/db.npy\")"
   ]
  },
  {
   "cell_type": "code",
   "execution_count": 3,
   "id": "faa196ae-d057-45fa-9d18-647365582427",
   "metadata": {},
   "outputs": [],
   "source": [
    "n_epochs = 2\n",
    "batch_size = 200\n",
    "n_attributes = 146\n",
    "n_targets = 129"
   ]
  },
  {
   "cell_type": "code",
   "execution_count": 5,
   "id": "28bdca92-a5dd-4edb-833c-261fc6435325",
   "metadata": {},
   "outputs": [
    {
     "name": "stdout",
     "output_type": "stream",
     "text": [
      "0\n",
      "1\n"
     ]
    }
   ],
   "source": [
    "class MultiOutputRegression(nn.Module):\n",
    "\n",
    "    def __init__(self):\n",
    "        super(MultiOutputRegression, self).__init__()\n",
    "        self.linear1 = torch.nn.Linear(n_attributes, 10*n_attributes)\n",
    "        self.linear2 = torch.nn.Linear(10*n_attributes, 10*n_attributes)\n",
    "        self.linear3 = torch.nn.Linear(10*n_attributes, n_targets)\n",
    "\n",
    "    def forward(self, x):\n",
    "        x = self.linear1(x)\n",
    "        x = self.linear2(x)\n",
    "        x = self.linear3(x)\n",
    "        return x\n",
    "\n",
    "model = MultiOutputRegression()\n",
    "\n",
    "criterion = nn.MSELoss()\n",
    "optimizer =  torch.optim.Adam(model.parameters())\n",
    "\n",
    "\n",
    "\n",
    "db = np.load(\"../data/db.npy\")\n",
    "\n",
    "X = (db.T[:n_attributes]).T\n",
    "Y = (db.T[n_attributes:]).T\n",
    "del(db)\n",
    "\n",
    "device = torch.device(\"cuda:0\" if torch.cuda.is_available() else \"cpu\")\n",
    "\n",
    "X,Y = torch.tensor(X).float(),torch.tensor(Y).float()\n",
    "X,Y = X.to(device),Y.to(device)\n",
    "\n",
    "for epoch in range(n_epochs):\n",
    "    print(epoch)\n",
    "    for i in range(0,len(X),batch_size):\n",
    "        \n",
    "        x_train = X[i:i+batch_size]\n",
    "        y_train = Y[i:i+batch_size]\n",
    "        \n",
    "        optimizer.zero_grad()\n",
    "        y_pred = model(x_train)\n",
    "        loss = criterion(y_pred, y_train)\n",
    "        loss.backward()\n",
    "        optimizer.step()\n",
    "        \n",
    "    #print(loss.detach().numpy())\n",
    "\n"
   ]
  },
  {
   "cell_type": "code",
   "execution_count": null,
   "id": "dd23f137-dec4-4a31-b0ee-683392a43a19",
   "metadata": {},
   "outputs": [],
   "source": []
  }
 ],
 "metadata": {
  "kernelspec": {
   "display_name": "Python 3 (ipykernel)",
   "language": "python",
   "name": "python3"
  },
  "language_info": {
   "codemirror_mode": {
    "name": "ipython",
    "version": 3
   },
   "file_extension": ".py",
   "mimetype": "text/x-python",
   "name": "python",
   "nbconvert_exporter": "python",
   "pygments_lexer": "ipython3",
   "version": "3.7.15"
  }
 },
 "nbformat": 4,
 "nbformat_minor": 5
}
